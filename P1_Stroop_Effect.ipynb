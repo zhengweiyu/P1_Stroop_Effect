{
 "cells": [
  {
   "cell_type": "markdown",
   "metadata": {},
   "source": [
    "# 背景任务\n",
    "\n",
    "在一个 Stroop （斯特鲁普）任务中，参与者得到了一列文字，每个文字都用一种油墨颜色展示。参与者的任务是将文字的打印颜色大声说出来。这项任务有两个条件：一致文字条件，和不一致文字条件。在一致文字条件中，显示的文字是与它们的打印颜色匹配的颜色词，如“红色”、“蓝色”。在不一致文字条件中，显示的文字是与它们的打印颜色不匹配的颜色词，如“紫色”、“橙色”。在每个情况中，我们将计量说出同等大小的列表中的墨色名称的时间。每位参与者必须全部完成并记录每种条件下使用的时间。\n",
    "\n",
    "说明：[点此查看此文档的英文版本](https://s3.cn-north-1.amazonaws.com.cn/static-documents/nd002/StatisticsTheScienceofDecisions-ProjectInstructions.pdf)。"
   ]
  },
  {
   "cell_type": "markdown",
   "metadata": {},
   "source": [
    "# 调查问题\n",
    "\n",
    "作为一般说明，请确保记录你在创建项目时使用或参考的任何资源。作为项目提交的一部分，你将需要报告信息来源。"
   ]
  },
  {
   "cell_type": "markdown",
   "metadata": {},
   "source": [
    "### 参考\n",
    "\n",
    "1. [Markdown语法说明](http://www.appinn.com/markdown/)\n",
    "\n",
    "2. [常用Latex数学符号表示方法](http://www.mohu.org/info/symbols/symbols.htm)\n",
    "\n",
    "3. [项目P0: 湾区单车共享](https://github.com/zhengweiyu/P0_bike_sharing/blob/master/Bay_Area_Bike_Share_Analysis.ipynb) \n",
    "\n",
    "4. [Jupyter Notebook 快速入门](http://codingpy.com/article/getting-started-with-jupyter-notebook-part-1/)\n",
    "\n",
    "5. [如何在 Mac 上拍摄屏幕快照](https://support.apple.com/zh-cn/HT201361)\n",
    "\n",
    "6. [百度百科：斯特鲁普效应](http://baike.baidu.com/item/%E6%96%AF%E7%89%B9%E9%B2%81%E6%99%AE%E6%95%88%E5%BA%94)\n",
    "\n",
    "7. [什么是检验的假设集](http://support.minitab.com/en-us/minitab/17/topic-library/basic-statistics-and-graphs/hypothesis-tests/basics/null-and-alternative-hypotheses/)\n",
    "\n",
    "8. [用Python进行数据可视化的10种方法](http://www.dataguru.cn/article-8463-1.html)"
   ]
  },
  {
   "cell_type": "markdown",
   "metadata": {},
   "source": [
    "** 问题1：** \t我们的自变量是什么？因变量是什么？\n",
    "\n",
    "** 答案：** \n",
    "\n",
    "自变量是任务条件，即展示的字义与颜色一致或不一致。** 方便起见，数学符号的下标对应一致条件的为c，对应不一致的为i。**\n",
    "\n",
    "因变量是被试的反应时间。"
   ]
  },
  {
   "cell_type": "markdown",
   "metadata": {},
   "source": [
    "** 问题2：** 此任务的适当假设集是什么？你想执行什么类型的统计测试？为你的选择提供正当理由。\n",
    "\n",
    "** 答： **  \n",
    "\n",
    "零假设：任务条件对总体平均反应时间的影响无差别。\n",
    "$$ H_0: \\mu_c = \\mu_i $$\n",
    "\n",
    "对立假设： 不一致条件导致的总体平均反应时间更长。\n",
    "$$ H_1: \\mu_c < \\mu_i $$\n",
    "\n",
    "采用“相依样本的单尾t检验”。\n",
    "\n",
    "数据是样本而非总体，因此使用t检验而非z检验。\n",
    "\n",
    "两项任务由同一组参与者先后完成，属于相依样本。\n",
    "\n",
    "根据假设集，采用单尾检验。"
   ]
  },
  {
   "cell_type": "markdown",
   "metadata": {},
   "source": [
    "现在轮到你自行尝试 Stroop 任务了。前往[此链接](https://faculty.washington.edu/chudler/java/ready.html)，其中包含一个基于 Java 的小程序，专门用于执行 Stroop 任务。记录你收到的任务时间（你无需将时间提交到网站）。现在[下载此数据集](https://s3.cn-north-1.amazonaws.com.cn/static-documents/nd002/stroopdata.csv)，其中包含一些任务参与者的结果。数据集的每行包含一名参与者的表现，第一个数字代表他们的一致任务结果，第二个数字代表不一致任务结果。"
   ]
  },
  {
   "cell_type": "code",
   "execution_count": 1,
   "metadata": {
    "collapsed": true
   },
   "outputs": [],
   "source": [
    "# 导入所有需要的包函数\n",
    "\n",
    "import csv\n",
    "from datetime import datetime\n",
    "import numpy as np\n",
    "import pandas as pd\n",
    "from IPython.display import display\n",
    "%matplotlib inline"
   ]
  },
  {
   "cell_type": "code",
   "execution_count": 2,
   "metadata": {
    "collapsed": false,
    "scrolled": true
   },
   "outputs": [
    {
     "data": {
      "text/html": [
       "<div>\n",
       "<table border=\"1\" class=\"dataframe\">\n",
       "  <thead>\n",
       "    <tr style=\"text-align: right;\">\n",
       "      <th></th>\n",
       "      <th>Congruent</th>\n",
       "      <th>Incongruent</th>\n",
       "    </tr>\n",
       "  </thead>\n",
       "  <tbody>\n",
       "    <tr>\n",
       "      <th>0</th>\n",
       "      <td>12.079</td>\n",
       "      <td>19.278</td>\n",
       "    </tr>\n",
       "    <tr>\n",
       "      <th>1</th>\n",
       "      <td>16.791</td>\n",
       "      <td>18.741</td>\n",
       "    </tr>\n",
       "    <tr>\n",
       "      <th>2</th>\n",
       "      <td>9.564</td>\n",
       "      <td>21.214</td>\n",
       "    </tr>\n",
       "    <tr>\n",
       "      <th>3</th>\n",
       "      <td>8.630</td>\n",
       "      <td>15.687</td>\n",
       "    </tr>\n",
       "    <tr>\n",
       "      <th>4</th>\n",
       "      <td>14.669</td>\n",
       "      <td>22.803</td>\n",
       "    </tr>\n",
       "  </tbody>\n",
       "</table>\n",
       "</div>"
      ],
      "text/plain": [
       "   Congruent  Incongruent\n",
       "0     12.079       19.278\n",
       "1     16.791       18.741\n",
       "2      9.564       21.214\n",
       "3      8.630       15.687\n",
       "4     14.669       22.803"
      ]
     },
     "metadata": {},
     "output_type": "display_data"
    }
   ],
   "source": [
    "sample_data = pd.read_csv('stroopdata.csv')\n",
    "\n",
    "display(sample_data.head())"
   ]
  },
  {
   "cell_type": "markdown",
   "metadata": {
    "collapsed": true
   },
   "source": [
    "**问题3：** 报告关于此数据集的一些描述性统计。包含至少一个集中趋势测量和至少一个变异测量。"
   ]
  },
  {
   "cell_type": "markdown",
   "metadata": {},
   "source": [
    "样本量 \n",
    "\n",
    "$$ n = 24 $$\n",
    "\n",
    "### 1. 描述统计量\n",
    "\n",
    "#### 集中趋势测量 \n",
    "\n",
    "一致任务反应时间均值 \n",
    "\n",
    "$$ x_c = 14.02 $$\n",
    "\n",
    "不一致任务反应时间均值 \n",
    "\n",
    "$$ x_i = 22.02 $$\n",
    "\n",
    "差异时间均值 \n",
    "\n",
    "$$ M = 7.96 $$\n",
    "\n",
    "#### 变异测量\n",
    "\n",
    "$$ SD = 5.97 $$\n",
    "\n",
    "$$ SEM = 1.22 $$"
   ]
  },
  {
   "cell_type": "markdown",
   "metadata": {},
   "source": [
    "**问题4：** 提供显示样本数据分布的一个或两个可视化。用一两句话说明你从图中观察到的结果。"
   ]
  },
  {
   "cell_type": "code",
   "execution_count": 4,
   "metadata": {
    "collapsed": false
   },
   "outputs": [
    {
     "data": {
      "image/png": "[encoded data removed]",
      "text/plain": [
       "<matplotlib.figure.Figure at 0x7f9bbd437110>"
      ]
     },
     "metadata": {},
     "output_type": "display_data"
    }
   ],
   "source": [
    "import matplotlib.pyplot as plt\n",
    "\n",
    "df = pd.DataFrame(sample_data)\n",
    "df.boxplot()\n",
    "plt.show()"
   ]
  },
  {
   "cell_type": "markdown",
   "metadata": {
    "collapsed": true
   },
   "source": [
    "一致条件样本数据较为分散，不一致条件样本数据较为集中。\n",
    "\n",
    "从箱线图观察到，不一致条件样本的反应时间普遍（最小、最大、中位、四分位）比一致条件样本更长，支持之前的假设。"
   ]
  },
  {
   "cell_type": "markdown",
   "metadata": {},
   "source": [
    "**问题5：** 现在，执行统计测试并报告你的结果。你的置信水平和关键统计值是多少？你是否成功拒绝零假设？对试验任务得出一个结论。结果是否与你的期望一致？"
   ]
  },
  {
   "cell_type": "markdown",
   "metadata": {},
   "source": [
    "### 2.  推论统计量\n",
    "\n",
    "相依样本t分布检验，单尾\n",
    "\n",
    "$$ \\alpha = 0.05 $$\n",
    "\n",
    "计算得\n",
    "\n",
    "$$ t_{statistic} = 6.52 $$\n",
    "\n",
    "查T表得\n",
    "\n",
    "$$ t_{critical} = 1.714 $$\n",
    "\n",
    "拒绝零假设。\n",
    "\n",
    "95% CI=(5.87, 10.05)\n",
    "\n",
    "### 3. 结论\n",
    "\n",
    "不同任务条件导致同一组人的反应时间有统计学意义的明显差异。当颜色词的文字与颜色不匹配时，需要的平均反应时间更长，与期望的结果一致。\n"
   ]
  },
  {
   "cell_type": "markdown",
   "metadata": {},
   "source": [
    "**问题6：** 可选：你觉得导致所观察到的效应的原因是什么？你是否能想到会取得类似效应的替代或类似任务？进行一些调查研究将有助于你思考这两个问题！\n",
    "\n",
    "** 答：**\n",
    "\n",
    "一致任务只输入了一种信息（文字），而不一致任务输入了两种信息（文字、颜色），人脑在同一时间只能处理一种信息，因此导致反应时间延长。\n",
    "\n",
    "当数字的字义和数字串的长度不一致时，也能观察到斯特鲁普效应。"
   ]
  }
 ],
 "metadata": {
  "anaconda-cloud": {
   "attach-environment": true,
   "summary": "P1: Stroop Effect"
  },
  "kernelspec": {
   "display_name": "Python [conda env:py2env]",
   "language": "python",
   "name": "conda-env-py2env-py"
  },
  "language_info": {
   "codemirror_mode": {
    "name": "ipython",
    "version": 2
   },
   "file_extension": ".py",
   "mimetype": "text/x-python",
   "name": "python",
   "nbconvert_exporter": "python",
   "pygments_lexer": "ipython2",
   "version": "2.7.13"
  }
 },
 "nbformat": 4,
 "nbformat_minor": 1
}
